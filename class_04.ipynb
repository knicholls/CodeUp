{
 "cells": [
  {
   "cell_type": "markdown",
   "id": "381f041d",
   "metadata": {},
   "source": [
    "Booleans"
   ]
  },
  {
   "cell_type": "markdown",
   "id": "a5e4022a",
   "metadata": {},
   "source": [
    "If"
   ]
  },
  {
   "cell_type": "code",
   "execution_count": 2,
   "id": "cd0cfc7e",
   "metadata": {},
   "outputs": [
    {
     "name": "stdout",
     "output_type": "stream",
     "text": [
      "Roller Coaster Height Check\n",
      "You can not ride the Roller Coaster\n"
     ]
    }
   ],
   "source": [
    "print(\"Roller Coaster Height Check\")\n",
    "height =int(input(\"Enter your height in inches:\"))\n",
    "if height < 40:\n",
    "    print(\"You can not ride the Roller Coaster\")"
   ]
  },
  {
   "cell_type": "markdown",
   "id": "f4ee5c8d",
   "metadata": {},
   "source": [
    "Elif"
   ]
  },
  {
   "cell_type": "code",
   "execution_count": null,
   "id": "b73c637e",
   "metadata": {},
   "outputs": [
    {
     "name": "stdout",
     "output_type": "stream",
     "text": [
      "Roller Coaster Height Check\n",
      "You must gave a guardian accompany you on the ride\n"
     ]
    }
   ],
   "source": [
    "print(\"Roller Coaster Height Check\")\n",
    "height =int(input(\"Enter your height in inches:\"))\n",
    "if height < 40:\n",
    "    print(\"You can not ride the Roller Coaster\")\n",
    "elif height < 45:\n",
    "    print(\"You must gave a guardian accompany you on the ride\")    "
   ]
  },
  {
   "cell_type": "markdown",
   "id": "88e3a0b8",
   "metadata": {},
   "source": [
    "Else"
   ]
  },
  {
   "cell_type": "code",
   "execution_count": 14,
   "id": "ac00c241",
   "metadata": {},
   "outputs": [
    {
     "name": "stdout",
     "output_type": "stream",
     "text": [
      "Roller Coaster Height Check\n",
      "You may go on the ride\n"
     ]
    }
   ],
   "source": [
    "print(\"Roller Coaster Height Check\")\n",
    "height =int(input(\"Enter your height in inches:\"))\n",
    "if height < 40:\n",
    "    print(\"You can not ride the Roller Coaster\")\n",
    "elif height < 45:\n",
    "    print(\"You must gave a guardian accompany you on the ride\")  \n",
    "else:\n",
    "    print(\"You may go on the ride\")  "
   ]
  },
  {
   "cell_type": "markdown",
   "id": "bb922598",
   "metadata": {},
   "source": [
    "Conditionals"
   ]
  },
  {
   "cell_type": "code",
   "execution_count": 18,
   "id": "10f94c8a",
   "metadata": {},
   "outputs": [
    {
     "name": "stdout",
     "output_type": "stream",
     "text": [
      "You are a Senior \n"
     ]
    }
   ],
   "source": [
    "age = int(input(\"What is yor age: \"))\n",
    "if age < 18:\n",
    "    print(\"You are a Minor\")\n",
    "elif age < 60:\n",
    "    print(\"You are a Adult \")\n",
    "else:\n",
    "    print(\"You are a Senior \")"
   ]
  },
  {
   "cell_type": "markdown",
   "id": "6b8349e4",
   "metadata": {},
   "source": [
    "Logical Operators"
   ]
  },
  {
   "cell_type": "code",
   "execution_count": null,
   "id": "22ed8fc0",
   "metadata": {},
   "outputs": [
    {
     "name": "stdout",
     "output_type": "stream",
     "text": [
      "False\n",
      "True\n",
      "False\n"
     ]
    }
   ],
   "source": [
    "print(True and False)\n",
    "print(not False and not (True and False))\n",
    "print(not (True or False) and False and not False)"
   ]
  },
  {
   "cell_type": "markdown",
   "id": "d3f8e85d",
   "metadata": {},
   "source": [
    "For Loops"
   ]
  },
  {
   "cell_type": "code",
   "execution_count": 23,
   "id": "22ee92bb",
   "metadata": {},
   "outputs": [
    {
     "name": "stdout",
     "output_type": "stream",
     "text": [
      "Hello World\n",
      "Hello World\n",
      "Hello World\n",
      "Hello World\n",
      "Hello World\n"
     ]
    }
   ],
   "source": [
    "for i in range(5):\n",
    "    print(\"Hello World\")"
   ]
  },
  {
   "cell_type": "code",
   "execution_count": 24,
   "id": "bd42e8e9",
   "metadata": {},
   "outputs": [
    {
     "name": "stdout",
     "output_type": "stream",
     "text": [
      "5\n",
      "4\n",
      "3\n",
      "2\n",
      "1\n"
     ]
    }
   ],
   "source": [
    "for i in range(5, 0, -1):\n",
    "    print(i)"
   ]
  },
  {
   "cell_type": "code",
   "execution_count": 25,
   "id": "f0e2f111",
   "metadata": {},
   "outputs": [
    {
     "name": "stdout",
     "output_type": "stream",
     "text": [
      "C\n",
      "o\n",
      "d\n",
      "e\n",
      "U\n",
      "p\n"
     ]
    }
   ],
   "source": [
    "t = \"CodeUp\"\n",
    "for i in t:\n",
    "    print(i)"
   ]
  },
  {
   "cell_type": "code",
   "execution_count": null,
   "id": "414518aa",
   "metadata": {},
   "outputs": [
    {
     "name": "stdout",
     "output_type": "stream",
     "text": [
      "C\n",
      "o\n",
      "d\n",
      "e\n",
      "U\n",
      "p\n"
     ]
    }
   ],
   "source": [
    "t = \"CodeUp\"\n",
    "for i in range(len(t)):"
   ]
  },
  {
   "cell_type": "markdown",
   "id": "d76d74fd",
   "metadata": {},
   "source": [
    "Dice Roll"
   ]
  },
  {
   "cell_type": "code",
   "execution_count": null,
   "id": "c18c76f4",
   "metadata": {},
   "outputs": [
    {
     "name": "stdout",
     "output_type": "stream",
     "text": [
      "The final score is {player_score}\n",
      "The final score is {player_score}\n",
      "The final score is {player_score}\n",
      "The final score is {player_score}\n",
      "The final score is {player_score}\n",
      "The final score is {player_score}\n",
      "The game is over and you have lost\n",
      "Your final score is  0\n"
     ]
    }
   ],
   "source": [
    "import random\n",
    "#generate a number fromm 1 to 6\n",
    "#user starts with 0 points\n",
    "diceroll  = 0\n",
    "player_score  = 0\n",
    "\n",
    "while not diceroll == 1 and player_score < 5:\n",
    "    input(\"Please press enter\")\n",
    "    diceroll =random.randint(1,7)\n",
    "    if diceroll == 1:\n",
    "        print(f\"The game is over and you have lost\")\n",
    "        print (f\"Your final score is  {player_score}\")\n",
    "    else:\n",
    "        print(\"The final score is {player_score}\")\n",
    "        "
   ]
  },
  {
   "cell_type": "markdown",
   "id": "9c8cc463",
   "metadata": {},
   "source": [
    "Random DNA Generator"
   ]
  },
  {
   "cell_type": "code",
   "execution_count": 27,
   "id": "2fe1be8b",
   "metadata": {},
   "outputs": [
    {
     "name": "stdout",
     "output_type": "stream",
     "text": [
      "How mant times doea it appear: 4\n"
     ]
    }
   ],
   "source": [
    "word = str(input(\"Enter a Word: \"))\n",
    "char1 = str(input(\"Enter a Character: \"))\n",
    "num = 0\n",
    "for i in range(len(word)):\n",
    "    if char1 == word[i]:\n",
    "        num+= 1\n",
    "print(f\"How mant times doea it appear: {num}\")"
   ]
  },
  {
   "cell_type": "markdown",
   "id": "60acc13d",
   "metadata": {},
   "source": [
    "Error Handling"
   ]
  },
  {
   "cell_type": "code",
   "execution_count": 8,
   "id": "cbbd4c77",
   "metadata": {},
   "outputs": [
    {
     "name": "stdout",
     "output_type": "stream",
     "text": [
      "Invalid Input Error\n"
     ]
    }
   ],
   "source": [
    "number = input(\"Integer Input: \")\n",
    "try:\n",
    "    val = int(number)\n",
    "except (ValueError):\n",
    "    print(\"Invalid Input Error\")"
   ]
  },
  {
   "cell_type": "markdown",
   "id": "ecf74ae6",
   "metadata": {},
   "source": [
    "Homework Guessing Game"
   ]
  },
  {
   "cell_type": "code",
   "execution_count": 2,
   "id": "661c151f",
   "metadata": {},
   "outputs": [
    {
     "name": "stdout",
     "output_type": "stream",
     "text": [
      "\n",
      "####  Oscar has $88 in the Bank ###\n",
      "++++++++++++++++++++++++++++++++++++++++++++++\n",
      "\n",
      "Suggestion:50\n",
      "Your guess of 50 was too low\n",
      "\n",
      "Suggestion:75\n",
      "Your guess of 75 was too low\n",
      "\n",
      "Suggestion:87\n",
      "Your guess of 87 was too low\n",
      "\n",
      "Suggestion:93\n",
      "Your guess of 93 was too high\n",
      "\n",
      "Suggestion:90\n",
      "Your guess of 90 was too high\n",
      "\n",
      "Suggestion:88\n",
      "\n",
      "You guessed $88 in only 6 tries!\n",
      "\n"
     ]
    }
   ],
   "source": [
    "import random\n",
    "\n",
    "attempts = 0\n",
    "low, high = 0, 100\n",
    "\n",
    "dollars = random.randint(low, high)\n",
    "\n",
    "print(f\"\\n####  Oscar has ${dollars} in the Bank ###\")\n",
    "print(\"++++++++++++++++++++++++++++++++++++++++++++++\\n\")\n",
    "\n",
    "while True:\n",
    "    attempts += 1\n",
    "    print(f\"Suggestion:{(low + high) // 2}\") \n",
    "    response = int(input(f\"Attempt number:{attempts}: \"))\n",
    "    \n",
    "    if response == dollars:\n",
    "         print(f\"\\nYou guessed ${dollars} in only {attempts} tries!\\n\")\n",
    "         break\n",
    "    \n",
    "    if response < dollars:\n",
    "         print(f\"Your guess of {response} was too low\\n\")\n",
    "         low = response\n",
    "         continue\n",
    "    \n",
    "    else:\n",
    "        print(f\"Your guess of {response} was too high\\n\")\n",
    "        high = response\n",
    "        continue\n",
    "    \n",
    "    break"
   ]
  }
 ],
 "metadata": {
  "kernelspec": {
   "display_name": ".venv (3.12.3)",
   "language": "python",
   "name": "python3"
  },
  "language_info": {
   "codemirror_mode": {
    "name": "ipython",
    "version": 3
   },
   "file_extension": ".py",
   "mimetype": "text/x-python",
   "name": "python",
   "nbconvert_exporter": "python",
   "pygments_lexer": "ipython3",
   "version": "3.12.3"
  }
 },
 "nbformat": 4,
 "nbformat_minor": 5
}
