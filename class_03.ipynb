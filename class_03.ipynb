{
 "cells": [
  {
   "cell_type": "markdown",
   "id": "85c61a23",
   "metadata": {},
   "source": [
    "Strings Review"
   ]
  },
  {
   "cell_type": "code",
   "execution_count": 1,
   "id": "dfa6e4ca",
   "metadata": {},
   "outputs": [
    {
     "name": "stdout",
     "output_type": "stream",
     "text": [
      "Code\n",
      "Up\n"
     ]
    }
   ],
   "source": [
    "print(\"Code\\nUp\")"
   ]
  },
  {
   "cell_type": "code",
   "execution_count": 2,
   "id": "d0ac7a53",
   "metadata": {},
   "outputs": [
    {
     "name": "stdout",
     "output_type": "stream",
     "text": [
      "cbcde\n"
     ]
    }
   ],
   "source": [
    "str =\"abcde\"\n",
    "print(str.replace(\"a\",\"c\"))"
   ]
  },
  {
   "cell_type": "code",
   "execution_count": 3,
   "id": "3877fd10",
   "metadata": {},
   "outputs": [
    {
     "name": "stdout",
     "output_type": "stream",
     "text": [
      "ade\n"
     ]
    }
   ],
   "source": [
    "str =\"abcde\"\n",
    "print(str.replace(\"abc\",\"a\"))"
   ]
  },
  {
   "cell_type": "code",
   "execution_count": 4,
   "id": "27b84512",
   "metadata": {},
   "outputs": [
    {
     "name": "stdout",
     "output_type": "stream",
     "text": [
      "ABCDE\n"
     ]
    }
   ],
   "source": [
    "str =\"abcde\"\n",
    "str = str.upper()\n",
    "print(str)\n"
   ]
  },
  {
   "cell_type": "code",
   "execution_count": 5,
   "id": "f588e5e6",
   "metadata": {},
   "outputs": [
    {
     "name": "stdout",
     "output_type": "stream",
     "text": [
      "Hello, Fred\n",
      "JDJDJJD!!!\n",
      "...jdhdd...\n",
      "000022kkdj00\n"
     ]
    }
   ],
   "source": [
    "name = input(\"What is your name?: \")\n",
    "scream = input(\"Enter something to be screamed: \")\n",
    "whisper = input(\"Enter something to be whispered: \" )\n",
    "o = input(\"Enter something with a bunch of O's and o's: \")\n",
    "o = o.replace(\"O\", \"0\")\n",
    "o = o.replace(\"o\", \"0\")\n",
    "print(\"Hello, \" + name.capitalize())\n",
    "print(scream.upper() + \"!!!\")\n",
    "print(\"...\" + whisper.lower() + \"...\")\n",
    "print(o)"
   ]
  },
  {
   "cell_type": "code",
   "execution_count": 7,
   "id": "b85ec654",
   "metadata": {},
   "outputs": [
    {
     "name": "stdout",
     "output_type": "stream",
     "text": [
      "The secret code is: alr\n"
     ]
    }
   ],
   "source": [
    "str1 = input(\"Enter Word 1 (min. 2 characters): \")\n",
    "str2 = input(\"Enter Word 2 (min. 5 characters): \")\n",
    "str3 = input(\"Enter Word 2 (min. 3 characters): \")\n",
    "print(\"The secret code is: \" + str1[1] + str2[4] + str3[2])"
   ]
  },
  {
   "cell_type": "code",
   "execution_count": 8,
   "id": "d8fc77ff",
   "metadata": {},
   "outputs": [
    {
     "name": "stdout",
     "output_type": "stream",
     "text": [
      "App\n"
     ]
    }
   ],
   "source": [
    "str =\"Apple\"\n",
    "print(str[0:3])"
   ]
  },
  {
   "cell_type": "code",
   "execution_count": 9,
   "id": "7f777e17",
   "metadata": {},
   "outputs": [
    {
     "name": "stdout",
     "output_type": "stream",
     "text": [
      "Sally collects seash\n"
     ]
    }
   ],
   "source": [
    "str =input(\"Enter a sentence: \")\n",
    "print(str[0:20])"
   ]
  },
  {
   "cell_type": "code",
   "execution_count": 10,
   "id": "2101ba1c",
   "metadata": {},
   "outputs": [
    {
     "name": "stdout",
     "output_type": "stream",
     "text": [
      "Code\n"
     ]
    }
   ],
   "source": [
    "str =\"CodeUp\"\n",
    "print(str[0:4])"
   ]
  },
  {
   "cell_type": "code",
   "execution_count": 11,
   "id": "adaa79e9",
   "metadata": {},
   "outputs": [
    {
     "name": "stdout",
     "output_type": "stream",
     "text": [
      "pUedoC\n"
     ]
    }
   ],
   "source": [
    "str =\"CodeUp\"\n",
    "print(str[::-1])\n"
   ]
  },
  {
   "cell_type": "code",
   "execution_count": 12,
   "id": "e507b74b",
   "metadata": {},
   "outputs": [
    {
     "name": "stdout",
     "output_type": "stream",
     "text": [
      "d\n"
     ]
    }
   ],
   "source": [
    "str =\"CodeUp\"\n",
    "print(str[-4])"
   ]
  },
  {
   "cell_type": "code",
   "execution_count": null,
   "id": "7ad309de",
   "metadata": {},
   "outputs": [],
   "source": [
    "full = input(\"What is your full name: \")\n",
    "spl = full.split(\" \")\n",
    "print(\"Hello, \" + spl[0].capitalize() + \" \" + spl[1].capitalize())"
   ]
  },
  {
   "cell_type": "code",
   "execution_count": 13,
   "id": "1a7428df",
   "metadata": {},
   "outputs": [
    {
     "name": "stdout",
     "output_type": "stream",
     "text": [
      "10 X 2 = 20\n"
     ]
    }
   ],
   "source": [
    "num = 10\n",
    "print(f\"{num} X 2 = {num * 2}\")"
   ]
  },
  {
   "cell_type": "code",
   "execution_count": 14,
   "id": "52dbb200",
   "metadata": {},
   "outputs": [
    {
     "name": "stdout",
     "output_type": "stream",
     "text": [
      "HelloabcHelloabc"
     ]
    }
   ],
   "source": [
    "print(\"Hello\", end=\"abc\")\n",
    "print(\"Hello\", end=\"abc\")"
   ]
  },
  {
   "cell_type": "code",
   "execution_count": 17,
   "id": "31e43075",
   "metadata": {},
   "outputs": [
    {
     "name": "stdout",
     "output_type": "stream",
     "text": [
      "Ken Nicholls 23\n"
     ]
    }
   ],
   "source": [
    "first = input()\n",
    "last = input()\n",
    "age = int(input())\n",
    "print(first, end=\" \")\n",
    "print(last, end=\" \")\n",
    "print(f\"{age + 1}\")\n"
   ]
  },
  {
   "cell_type": "code",
   "execution_count": 18,
   "id": "357e7481",
   "metadata": {},
   "outputs": [
    {
     "name": "stdout",
     "output_type": "stream",
     "text": [
      "Yellow Rubber Duck "
     ]
    }
   ],
   "source": [
    "sen = input(\"Type a sentence: \")\n",
    "sen = sen.split(\" \")\n",
    "for word in sen:\n",
    "    print(word.capitalize() + \" \" , end=\"\")"
   ]
  },
  {
   "cell_type": "markdown",
   "id": "6e00df2f",
   "metadata": {},
   "source": [
    "Homework"
   ]
  },
  {
   "cell_type": "markdown",
   "id": "6b0e9d2d",
   "metadata": {},
   "source": [
    "Write a program that will:Ask the user to input a stringfrom random import random\n",
    "\n",
    "Select a random character in the string - call this the ‘tumor’\n",
    "Tell the user what the tumor is, and remove all instances of the tumor in the string\n",
    "Print out the resulting word after the character has been removed\n",
    "Note: Make sure you don’t select an index outside the string’s bounds\n",
    "\n",
    "As a hint, recall what we learned from class 2 about generating random integers\n",
    "how can you use this to find a random index in a string?"
   ]
  },
  {
   "cell_type": "code",
   "execution_count": null,
   "id": "d7fdc803",
   "metadata": {},
   "outputs": [],
   "source": [
    "import random\n",
    "\n",
    "str = str(input(\"Please enter a string: \"))\n",
    "tumour_ptr = random.randint(0, len(str)-1)\n",
    "print(f\"The the tumour is {str[tumour_ptr]}\")\n",
    "str = str.replace(str[tumour_ptr], \"\")\n",
    "print(f\"The resulting word is: {str}\")"
   ]
  }
 ],
 "metadata": {
  "kernelspec": {
   "display_name": ".venv (3.12.3)",
   "language": "python",
   "name": "python3"
  },
  "language_info": {
   "codemirror_mode": {
    "name": "ipython",
    "version": 3
   },
   "file_extension": ".py",
   "mimetype": "text/x-python",
   "name": "python",
   "nbconvert_exporter": "python",
   "pygments_lexer": "ipython3",
   "version": "3.12.3"
  }
 },
 "nbformat": 4,
 "nbformat_minor": 5
}
