{
 "cells": [
  {
   "cell_type": "markdown",
   "id": "57a7fafb",
   "metadata": {},
   "source": [
    "Friday October 24, 2025\n"
   ]
  },
  {
   "cell_type": "code",
   "execution_count": 8,
   "id": "cd3fae64",
   "metadata": {},
   "outputs": [
    {
     "data": {
      "text/plain": [
       "8.602325267042627"
      ]
     },
     "execution_count": 8,
     "metadata": {},
     "output_type": "execute_result"
    }
   ],
   "source": [
    "import math\n",
    "\n",
    "def pythag(a,b):\n",
    "    return (math.sqrt(a ** 2 + b ** 2))\n",
    "\n",
    "pythag(5,7)"
   ]
  },
  {
   "cell_type": "code",
   "execution_count": 29,
   "id": "023194f9",
   "metadata": {},
   "outputs": [
    {
     "ename": "SyntaxError",
     "evalue": "invalid syntax (2279149464.py, line 22)",
     "output_type": "error",
     "traceback": [
      "  \u001b[36mCell\u001b[39m\u001b[36m \u001b[39m\u001b[32mIn[29]\u001b[39m\u001b[32m, line 22\u001b[39m\n\u001b[31m    \u001b[39m\u001b[31mplayer1 = Player(name: \"Bob\", cur_health: 50, max_health: 100, atk: 6, inventory:[\"sword\"])\u001b[39m\n                         ^\n\u001b[31mSyntaxError\u001b[39m\u001b[31m:\u001b[39m invalid syntax\n"
     ]
    }
   ],
   "source": [
    "# Define a class\n",
    "class Player:\n",
    "    # Constructor to initialize attributes\n",
    "    def __init__(self, name, cur_health, max_health,atk, inventory):\n",
    "        self.name = name\n",
    "        self.cur_health =cur_health\n",
    "        self.max_health = max_health\n",
    "        self.atk = atk\n",
    "        self.inventory = inventory        \n",
    "\n",
    "\n",
    "def damage(self, d):\n",
    "    self.cur_health -= max(self.cur_health -d, 0)\n",
    "\n",
    "def consume(self, h, a):\n",
    "    self.cur_health = min(self.cur_health + h, self.max_health)\n",
    "    self.atk += a\n",
    "\n",
    "def collect(self, item):\n",
    "     self.inventory += i\n",
    "\n",
    "player1 = Player(name: \"Bob\", cur_health: 50, max_health: 100, atk: 6, inventory:[\"sword\"])\n",
    "print(player1.inventory)\n"
   ]
  },
  {
   "cell_type": "code",
   "execution_count": 27,
   "id": "4fd72e0e",
   "metadata": {},
   "outputs": [
    {
     "name": "stdout",
     "output_type": "stream",
     "text": [
      "Alice 30\n",
      "Bob 25\n"
     ]
    }
   ],
   "source": [
    "class Person:\n",
    "    def __init__(self, name, age):\n",
    "        self.name = name\n",
    "        self.age = age\n",
    "\n",
    "p1 = Person(\"Alice\", 30)\n",
    "p2 = Person(\"Bob\", 25)\n",
    "\n",
    "print(p1.name, p1.age)  # Alice 30\n",
    "print(p2.name, p2.age)  # Bob 25"
   ]
  }
 ],
 "metadata": {
  "kernelspec": {
   "display_name": ".venv",
   "language": "python",
   "name": "python3"
  },
  "language_info": {
   "codemirror_mode": {
    "name": "ipython",
    "version": 3
   },
   "file_extension": ".py",
   "mimetype": "text/x-python",
   "name": "python",
   "nbconvert_exporter": "python",
   "pygments_lexer": "ipython3",
   "version": "3.12.3"
  }
 },
 "nbformat": 4,
 "nbformat_minor": 5
}
