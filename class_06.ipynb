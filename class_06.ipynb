{
 "cells": [
  {
   "cell_type": "markdown",
   "id": "57a7fafb",
   "metadata": {},
   "source": [
    "Friday October 24, 2025\n"
   ]
  },
  {
   "cell_type": "code",
   "execution_count": 2,
   "id": "cd3fae64",
   "metadata": {},
   "outputs": [
    {
     "data": {
      "text/plain": [
       "8.602325267042627"
      ]
     },
     "execution_count": 2,
     "metadata": {},
     "output_type": "execute_result"
    }
   ],
   "source": [
    "import math\n",
    "\n",
    "def pythag(a,b):\n",
    "    return (math.sqrt(a ** 2 + b ** 2))\n",
    "\n",
    "pythag(5,7)"
   ]
  },
  {
   "cell_type": "code",
   "execution_count": 3,
   "id": "023194f9",
   "metadata": {},
   "outputs": [
    {
     "name": "stdout",
     "output_type": "stream",
     "text": [
      "['sword']\n"
     ]
    }
   ],
   "source": [
    "# Define a class\n",
    "class Player:\n",
    "    # Constructor to initialize attributes\n",
    "    def __init__(self, name, cur_health, max_health,atk, inventory):\n",
    "        self.name = name\n",
    "        self.cur_health =cur_health\n",
    "        self.max_health = max_health\n",
    "        self.atk = atk\n",
    "        self.inventory = inventory        \n",
    "\n",
    "\n",
    "def damage(self, d):\n",
    "    self.cur_health -= max(self.cur_health -d, 0)\n",
    "\n",
    "def consume(self, h, a):\n",
    "    self.cur_health = min(self.cur_health + h, self.max_health)\n",
    "    self.atk += a\n",
    "\n",
    "def collect(self, item):\n",
    "     self.inventory += i\n",
    "\n",
    "player1 = Player(\"Bob\", 50, 100, 6, [\"sword\"])\n",
    "print(player1.inventory)\n"
   ]
  },
  {
   "cell_type": "markdown",
   "id": "07564ed4",
   "metadata": {},
   "source": [
    "Homework\n",
    "Try playing around with some of the variables you see. How might you change the colour? How might you change the window size? Try using different RGB values for the “color” variable. What do you notice?\n",
    "Also practice writing different functions like the ones we did in class today."
   ]
  }
 ],
 "metadata": {
  "kernelspec": {
   "display_name": ".venv (3.12.3)",
   "language": "python",
   "name": "python3"
  },
  "language_info": {
   "codemirror_mode": {
    "name": "ipython",
    "version": 3
   },
   "file_extension": ".py",
   "mimetype": "text/x-python",
   "name": "python",
   "nbconvert_exporter": "python",
   "pygments_lexer": "ipython3",
   "version": "3.12.3"
  }
 },
 "nbformat": 4,
 "nbformat_minor": 5
}
