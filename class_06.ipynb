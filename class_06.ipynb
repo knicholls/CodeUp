{
 "cells": [
  {
   "cell_type": "markdown",
   "id": "57a7fafb",
   "metadata": {},
   "source": [
    "Friday October 24, 2025"
   ]
  }
 ],
 "metadata": {
  "language_info": {
   "name": "python"
  }
 },
 "nbformat": 4,
 "nbformat_minor": 5
}
