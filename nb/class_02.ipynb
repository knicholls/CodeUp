{
 "cells": [
  {
   "cell_type": "code",
   "execution_count": 1,
   "id": "7d61025e",
   "metadata": {},
   "outputs": [
    {
     "name": "stdout",
     "output_type": "stream",
     "text": [
      "1\n"
     ]
    }
   ],
   "source": [
    "x = \"Hello World\" #string\n",
    "y = 2025    #integer\n",
    "z= 3.14159  #float\n",
    "x = 1   # changes a string into a number\n",
    "print(x)"
   ]
  },
  {
   "cell_type": "code",
   "execution_count": 2,
   "id": "d2effc9d",
   "metadata": {},
   "outputs": [
    {
     "name": "stdout",
     "output_type": "stream",
     "text": [
      "CodeUp\n"
     ]
    }
   ],
   "source": [
    "a = \"Code\"\n",
    "b = \"Up\"\n",
    "c = a + b\n",
    "print(c)"
   ]
  },
  {
   "cell_type": "code",
   "execution_count": 3,
   "id": "5187c52b",
   "metadata": {},
   "outputs": [
    {
     "name": "stdout",
     "output_type": "stream",
     "text": [
      "CodeUp\n"
     ]
    }
   ],
   "source": [
    "name = \"CodeUp\"\n",
    "print(name)"
   ]
  },
  {
   "cell_type": "code",
   "execution_count": 4,
   "id": "c98447e2",
   "metadata": {},
   "outputs": [
    {
     "name": "stdout",
     "output_type": "stream",
     "text": [
      "Hello, CodeUp!\n"
     ]
    }
   ],
   "source": [
    "name = \"CodeUp\"\n",
    "print(\"Hello, \" + name + \"!\")"
   ]
  },
  {
   "cell_type": "code",
   "execution_count": 5,
   "id": "e0bc4d2f",
   "metadata": {},
   "outputs": [
    {
     "name": "stdout",
     "output_type": "stream",
     "text": [
      "10\n",
      "True\n"
     ]
    }
   ],
   "source": [
    "x=10\n",
    "print(x)\n",
    "x= True\n",
    "print(x)"
   ]
  },
  {
   "cell_type": "code",
   "execution_count": 6,
   "id": "1c5748ab",
   "metadata": {},
   "outputs": [
    {
     "name": "stdout",
     "output_type": "stream",
     "text": [
      "True 10\n"
     ]
    }
   ],
   "source": [
    "x=10\n",
    "y= True\n",
    "print(str(y) + \" \" + str(x))"
   ]
  },
  {
   "cell_type": "code",
   "execution_count": null,
   "id": "4e259f6b",
   "metadata": {},
   "outputs": [],
   "source": [
    "num_x = str(input(\"Enter the value of X:  \"))\n",
    "print(\"The value of x is: \" + num_x)"
   ]
  },
  {
   "cell_type": "code",
   "execution_count": null,
   "id": "ab3815d0",
   "metadata": {},
   "outputs": [],
   "source": [
    "num = int(input(\"Enter Number to be squared: \"))\n",
    "print(num ** 2)"
   ]
  },
  {
   "cell_type": "code",
   "execution_count": null,
   "id": "76c9ebac",
   "metadata": {},
   "outputs": [],
   "source": [
    "name = input(\"Enter your name: \")\n",
    "city = input(\"Enter your city: \")\n",
    "shape = input(\"enter a shape: \")\n",
    "print(\"Your special password is: \" + city + \"!!!\" + name + \"@@@\" + shape + \"###\")"
   ]
  },
  {
   "cell_type": "code",
   "execution_count": null,
   "id": "2e87e3cb",
   "metadata": {},
   "outputs": [],
   "source": [
    "print(max(1,2))\n",
    "print (min( 1,3))"
   ]
  },
  {
   "cell_type": "code",
   "execution_count": 7,
   "id": "01b34f54",
   "metadata": {},
   "outputs": [
    {
     "name": "stdout",
     "output_type": "stream",
     "text": [
      "2\n"
     ]
    }
   ],
   "source": [
    "names = [\"Bob\", \"Joe\" , \"Jeff\"]\n",
    "print(names.index(\"Jeff\"))"
   ]
  },
  {
   "cell_type": "code",
   "execution_count": 9,
   "id": "bd3253ec",
   "metadata": {},
   "outputs": [],
   "source": [
    "health = 50\n",
    "x_pos = 1700\n",
    "width = 1920\n",
    "health = min(health + 10 , 100) # prevents the users health from exceeding 100\n",
    "health = max(health -10, 0) # prevents the users health from being negative\n",
    "x_pos  = min(x_pos +10 , width)  # prevents"
   ]
  },
  {
   "cell_type": "markdown",
   "id": "18f3fac3",
   "metadata": {},
   "source": [
    "Homework"
   ]
  },
  {
   "cell_type": "code",
   "execution_count": 10,
   "id": "5ba0887b",
   "metadata": {},
   "outputs": [
    {
     "name": "stdout",
     "output_type": "stream",
     "text": [
      "10\n"
     ]
    }
   ],
   "source": [
    "a = int(input(\"First number: \"))\n",
    "b = int(input(\"Second number: \"))\n",
    "total = (a+b)\n",
    "print(min(10,max(0,total)))"
   ]
  }
 ],
 "metadata": {
  "kernelspec": {
   "display_name": ".venv (3.12.3)",
   "language": "python",
   "name": "python3"
  },
  "language_info": {
   "codemirror_mode": {
    "name": "ipython",
    "version": 3
   },
   "file_extension": ".py",
   "mimetype": "text/x-python",
   "name": "python",
   "nbconvert_exporter": "python",
   "pygments_lexer": "ipython3",
   "version": "3.12.3"
  }
 },
 "nbformat": 4,
 "nbformat_minor": 5
}
