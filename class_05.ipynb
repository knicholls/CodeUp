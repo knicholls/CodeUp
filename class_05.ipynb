{
 "cells": [
  {
   "cell_type": "markdown",
   "id": "a2bf7f65",
   "metadata": {},
   "source": [
    "An entire list can be printed using print(list_name)"
   ]
  },
  {
   "cell_type": "code",
   "execution_count": null,
   "id": "e30b343b",
   "metadata": {},
   "outputs": [],
   "source": [
    "ints = [1,2,3,4,5,6,7]\n",
    "print(ints[3:])    # [4,5,6,7]\n",
    "print(ints[1:4])   # [2,3,4]\n",
    "print(ints[-1])    # 7\n",
    "print(ints[2])     # 3\n",
    "print (ints[0])    # 1\n",
    "print(ints[0:7:2]) # [1,3,5,7]"
   ]
  },
  {
   "cell_type": "markdown",
   "id": "f6d77a82",
   "metadata": {},
   "source": [
    "Write a program that will continuously take in user input, and appending it to a list. The program will stop taking user input once the user inputs “QUIT”. Then, print the list."
   ]
  },
  {
   "cell_type": "code",
   "execution_count": null,
   "id": "b3941f61",
   "metadata": {},
   "outputs": [],
   "source": [
    "word = input()\n",
    "word_list = []\n",
    "while word != \"QUIT\":\n",
    "    word_list.append(word)\n",
    "    word = input()\n",
    "\n",
    "print(word_list)"
   ]
  },
  {
   "cell_type": "markdown",
   "id": "8fd4ec70",
   "metadata": {},
   "source": [
    "Modify your program from part 1 so that after the first instance of QUIT, the program will continuously take in user input, removing the first instance of it from the list. Then, print the list after the removals."
   ]
  },
  {
   "cell_type": "code",
   "execution_count": null,
   "id": "501c8963",
   "metadata": {},
   "outputs": [],
   "source": [
    "word = input()\n",
    "word_list = []\n",
    "while word != \"QUIT\":\n",
    "    word_list.append(word)\n",
    "    word = input()\n",
    "\n",
    "word = input()\n",
    "while word != \"QUIT\":\n",
    "    if word in word_list:\n",
    "        word_list.remove(word)\n",
    "    word = input()\n",
    "\n",
    "print(word_list)"
   ]
  },
  {
   "cell_type": "markdown",
   "id": "b2fcad7e",
   "metadata": {},
   "source": [
    "Iterating Through a List"
   ]
  },
  {
   "cell_type": "code",
   "execution_count": 13,
   "id": "dd8e1159",
   "metadata": {},
   "outputs": [
    {
     "name": "stdout",
     "output_type": "stream",
     "text": [
      "0: 1\n",
      "1: 2\n",
      "2: 3\n",
      "3: 4\n",
      "4: 5\n"
     ]
    }
   ],
   "source": [
    "num_list =[1,2,3,4,5]\n",
    "for i in range(len(num_list)):\n",
    "    print(f\"{i}: {num_list[i]}\")"
   ]
  },
  {
   "cell_type": "markdown",
   "id": "ea7460b8",
   "metadata": {},
   "source": [
    "Directly looping the elements of this list"
   ]
  },
  {
   "cell_type": "code",
   "execution_count": 20,
   "id": "c5bf4938",
   "metadata": {},
   "outputs": [
    {
     "name": "stdout",
     "output_type": "stream",
     "text": [
      "1\n",
      "2\n",
      "3\n",
      "4\n",
      "5\n"
     ]
    }
   ],
   "source": [
    "num_list = [1,2,3,4,5]\n",
    "for i in num_list:\n",
    "    print(i)"
   ]
  },
  {
   "cell_type": "markdown",
   "id": "962ea979",
   "metadata": {},
   "source": [
    "Write a program that will continuously take in integer user inputs, appending it to a list. The program will stop taking in user input once the user enters “-1”. Then, sort the list in descending order. Starting from the first element, add 10 to every third element after it (ie. 1st, 4th, 7th,  …)"
   ]
  },
  {
   "cell_type": "code",
   "execution_count": 23,
   "id": "114e9b88",
   "metadata": {},
   "outputs": [
    {
     "name": "stdout",
     "output_type": "stream",
     "text": [
      "Sorted list: [14, 13, 12, 11, 10]\n",
      "Final list: [24, 13, 12, 21, 10]\n"
     ]
    }
   ],
   "source": [
    "num = int(input())\n",
    "num_list = []\n",
    "while num != -1:\n",
    "    num_list.append(num)\n",
    "    num = int(input())\n",
    "\n",
    "num_list.sort()\n",
    "num_list.reverse()\n",
    "print(\"Sorted list: \" + str(num_list))\n",
    "for i in range(0, len(num_list), 3):\n",
    "    num_list[i] += 10\n",
    "print(\"Final list: \" + str(num_list))"
   ]
  },
  {
   "cell_type": "code",
   "execution_count": null,
   "id": "b95eaf9a",
   "metadata": {},
   "outputs": [],
   "source": []
  },
  {
   "cell_type": "markdown",
   "id": "e70fc459",
   "metadata": {},
   "source": [
    "The key in the square brackets rather than the index. Indices do not exist in dictionaries!\n"
   ]
  },
  {
   "cell_type": "code",
   "execution_count": 24,
   "id": "6f6add2b",
   "metadata": {},
   "outputs": [
    {
     "name": "stdout",
     "output_type": "stream",
     "text": [
      "Hello, John\n",
      "Hello, John\n",
      "{'Name': 'John', 'Age': '40', 'Job': 'Doctor'}\n"
     ]
    }
   ],
   "source": [
    "d= {\"Name\": \"John\", \"Age\": \"40\", \"Job\": \"Doctor\"}\n",
    "print(\"Hello, \" + d[\"Name\"])\n",
    "print(\"Hello, \" + d.get(\"Name\"))\n",
    "print(d)\n"
   ]
  },
  {
   "cell_type": "markdown",
   "id": "876be75e",
   "metadata": {},
   "source": [
    "Lists are valid objects that can be put in dictionaries.\n",
    "Looping using an index"
   ]
  },
  {
   "cell_type": "code",
   "execution_count": 25,
   "id": "8f1d1428",
   "metadata": {},
   "outputs": [
    {
     "name": "stdout",
     "output_type": "stream",
     "text": [
      "1\n",
      "12\n",
      "-3\n",
      "0\n",
      "\n",
      "\n",
      "1\n",
      "12\n",
      "-3\n",
      "0\n"
     ]
    }
   ],
   "source": [
    "d = {\"Numbers\": [1, 12, -3, 0], \"Letters\": [\"a\", \"b\", \"c\", \"d\"]}\n",
    "\n",
    "for i in range(len(d[\"Numbers\"])):\n",
    "    print(d[\"Numbers\"][i])\n",
    "\n",
    "print(\"\\n\")\n",
    "\n",
    "for i in d[\"Numbers\"]:\n",
    "    print(i)"
   ]
  },
  {
   "cell_type": "markdown",
   "id": "cc06b18d",
   "metadata": {},
   "source": [
    "Directly looping through the objects"
   ]
  },
  {
   "cell_type": "code",
   "execution_count": 26,
   "id": "b831fd35",
   "metadata": {},
   "outputs": [
    {
     "name": "stdout",
     "output_type": "stream",
     "text": [
      "1\n",
      "12\n",
      "-3\n",
      "0\n"
     ]
    }
   ],
   "source": [
    "d = {\"Numbers\": [1, 12, -3, 0], \"Letters\": [\"a\", \"b\", \"c\", \"d\"]}\n",
    "for i in d[\"Numbers\"]:\n",
    "    print(i)"
   ]
  },
  {
   "cell_type": "markdown",
   "id": "a108f4f7",
   "metadata": {},
   "source": [
    "Dictionary Activity"
   ]
  },
  {
   "cell_type": "code",
   "execution_count": 27,
   "id": "4ff958ec",
   "metadata": {},
   "outputs": [
    {
     "name": "stdout",
     "output_type": "stream",
     "text": [
      "The highest scoring student is Dan with a mark of 100\n",
      "The class average is 93.0\n"
     ]
    }
   ],
   "source": [
    "d= {\"Students\": [\"Adam\", \"Bob\", \"Cam\", \"Dan\"], \"Marks\": [90, 96, 86, 100]}\n",
    "high = 0\n",
    "student =\"\"\n",
    "total = 0\n",
    "for i in range(len(d[\"Marks\"])):\n",
    "    if d[\"Marks\"][i] > high:\n",
    "        high = d[\"Marks\"][i]\n",
    "        student = d[\"Students\"][i]\n",
    "    total += d[\"Marks\"][i]\n",
    "\n",
    "print(\"The highest scoring student is \" + student + \" with a mark of \" + str(high))\n",
    "print(\"The class average is \" + str(total / len(d[\"Marks\"])))"
   ]
  },
  {
   "cell_type": "markdown",
   "id": "05869523",
   "metadata": {},
   "source": [
    "Dictionary Functions\n",
    "dict_name.update(key: value) -adds a new key-value pair if the key doesnt exist already\n",
    "dict_name.pop(key) - removes key and it s corresponding vakue from the dictionary"
   ]
  },
  {
   "cell_type": "code",
   "execution_count": 29,
   "id": "31f982a9",
   "metadata": {},
   "outputs": [
    {
     "name": "stdout",
     "output_type": "stream",
     "text": [
      "{'Age': 30}\n"
     ]
    }
   ],
   "source": [
    "d = {}\n",
    "d.update({\"Name\": \"John\"})\n",
    "d.update({\"Age\": 30})\n",
    "d.pop(\"Name\")\n",
    "print(d)"
   ]
  },
  {
   "cell_type": "markdown",
   "id": "a49677f9",
   "metadata": {},
   "source": [
    "Dictionary Properties\n",
    "We can modify the key directly by setting its key, and delete it through the del keyword"
   ]
  },
  {
   "cell_type": "code",
   "execution_count": 30,
   "id": "4f757af7",
   "metadata": {},
   "outputs": [
    {
     "name": "stdout",
     "output_type": "stream",
     "text": [
      "{'Name': 'John', 'Age': 30}\n",
      "{'Age': 30}\n"
     ]
    }
   ],
   "source": [
    "d = {}\n",
    "d[\"Name\"] = \"John\"\n",
    "d[\"Age\"] = 30\n",
    "print(d)\n",
    "del d[\"Name\"]\n",
    "print(d)"
   ]
  },
  {
   "cell_type": "markdown",
   "id": "181bbe4c",
   "metadata": {},
   "source": [
    "A List of Dictionaries\n",
    "You can have a list that stores dictionaries"
   ]
  },
  {
   "cell_type": "code",
   "execution_count": 32,
   "id": "5c9eb28f",
   "metadata": {},
   "outputs": [
    {
     "name": "stdout",
     "output_type": "stream",
     "text": [
      "[{'Name': 'John', 'Age': 30}, {'Name': 'Dave', 'Age': 45}]\n"
     ]
    }
   ],
   "source": [
    "dict_list =[{\"Name\": \"John\", \"Age\": 30}, {\"Name\": \"Dave\", \"Age\": 45}]\n",
    "print(dict_list)"
   ]
  },
  {
   "cell_type": "code",
   "execution_count": 33,
   "id": "4282c4da",
   "metadata": {},
   "outputs": [
    {
     "name": "stdout",
     "output_type": "stream",
     "text": [
      "The highest scoring student is Dan with a mark of 100\n",
      "The class average is 93.0\n"
     ]
    }
   ],
   "source": [
    "dict_list = [{\"Name\": \"Adam\", \"Mark\": 90}, {\"Name\": \"Bob\", \"Mark\": 96}, {\"Name\": \"Cam\", \"Mark\": 86}, {\"Name\": \"Dan\", \"Mark\": 100}] \n",
    "\n",
    "high = 0\n",
    "student = \"\"\n",
    "total = 0\n",
    "for i in dict_list:\n",
    "    if i[\"Mark\"] > high:\n",
    "        high = i[\"Mark\"]\n",
    "        student = i[\"Name\"]\n",
    "    total += i[\"Mark\"]\n",
    "    \n",
    "print(\"The highest scoring student is \" + student + \" with a mark of \" + str(high))\n",
    "print(\"The class average is \" + str(total / len(dict_list)))"
   ]
  },
  {
   "cell_type": "markdown",
   "id": "eed27eb1",
   "metadata": {},
   "source": [
    "Write a program that will continuously prompt the user to enter the following information: name, age, profession\n",
    "The program should stop taking in input after the user inputs all of Jack’s information, and then print everyone’s information."
   ]
  },
  {
   "cell_type": "code",
   "execution_count": 37,
   "id": "05d8c5f3",
   "metadata": {},
   "outputs": [
    {
     "name": "stdout",
     "output_type": "stream",
     "text": [
      "Information for person 1:\n",
      "Name: James\n",
      "Age: 35\n",
      "Profession: Spy\n",
      "Information for person 2:\n",
      "Name: Betty\n",
      "Age: 23\n",
      "Profession: Artist\n",
      "Information for person 3:\n",
      "Name: Jack\n",
      "Age: 44\n",
      "Profession: Salesman\n"
     ]
    }
   ],
   "source": [
    "name = \"\"\n",
    "age = 0\n",
    "prof = \"\"\n",
    "dict_list = []\n",
    "\n",
    "while name != \"Jack\":\n",
    "    name = input(\"Enter the persons name: \")\n",
    "    age = int(input(\"Enter the persons age: \"))\n",
    "    prof = input(\"Enter the persons profession: \")\n",
    "    dict_list.append({\"Name\": name, \"Age\": age, \"Profession\": prof})\n",
    "\n",
    "    \n",
    "\n",
    "for i in range(len(dict_list)):\n",
    "    print(\"Information for person \" + str(i + 1) + \":\")\n",
    "    print(\"Name: \" + dict_list[i][\"Name\"])\n",
    "    print(\"Age: \" + str(dict_list[i][\"Age\"]))\n",
    "    print(\"Profession: \" + dict_list[i][\"Profession\"])\n"
   ]
  },
  {
   "cell_type": "markdown",
   "id": "e511b76d",
   "metadata": {},
   "source": [
    "#### Homework\n",
    "You have been tasked to create a program that handles account sign-ups for a company.\n",
    "Each account should have the name of the user, their birth-year, their email, their username, and their password. \n",
    "However, your program must also be able to handle more than 1 sign-up, thus you must store all these users somehow. \n",
    "If the user inputs their birth-year as < 1930, end the program and print out all the currently signed-up users. The user with the birth-year < 1930 should not be saved.\n"
   ]
  },
  {
   "cell_type": "code",
   "execution_count": null,
   "id": "4e5697e0",
   "metadata": {},
   "outputs": [],
   "source": [
    "name = \"\"\n",
    "birth_year = 2025\n",
    "email = \"\"\n",
    "username =\"\"\n",
    "password =\"\"\n",
    "dict_list = []\n",
    "\n",
    "while True:\n",
    "    name = input(\"What is your name? \")\n",
    "    birth_year = int(input(\"What is your birth year? \"))\n",
    "    if birth_year < 1930:\n",
    "        break\n",
    "    email = input(\"What is your email? \")\n",
    "    user_name = input(\"What is your username? \")\n",
    "    password = input(\"What is your password? \")\n",
    "    dict_list.append({\"Name\": name, \"Year\": birth_year, \"Email\": email, \"Username\": user_name,\"Password\": password})\n",
    "\n",
    "for i in range(len(dict_list)):\n",
    "    print(f\"Welcome {dict_list[i][\"Name\"]}, born in {dict_list[i][\"Year\"]} e-mail {dict_list[i][\"Email\"]}\")\n",
    "    print(f\"Your username is: {dict_list[i][\"Username\"]} and your password is {dict_list[i][\"Password\"]}\\n\")\n",
    " "
   ]
  }
 ],
 "metadata": {
  "kernelspec": {
   "display_name": "Python 3",
   "language": "python",
   "name": "python3"
  },
  "language_info": {
   "codemirror_mode": {
    "name": "ipython",
    "version": 3
   },
   "file_extension": ".py",
   "mimetype": "text/x-python",
   "name": "python",
   "nbconvert_exporter": "python",
   "pygments_lexer": "ipython3",
   "version": "3.12.3"
  }
 },
 "nbformat": 4,
 "nbformat_minor": 5
}
